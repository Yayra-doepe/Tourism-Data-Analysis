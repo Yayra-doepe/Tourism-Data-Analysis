{
 "cells": [
  {
   "cell_type": "code",
   "execution_count": null,
   "id": "d1d0d6d0",
   "metadata": {},
   "outputs": [],
   "source": [
    "#Load Dataset\n",
    "import pandas as pd\n",
    "import matplotlib.pyplot as plt\n",
    "import seaborn as sns\n",
    "\n",
    "# Load Dataset\n",
    "df = pd.read_excel(\"Cleaned Tourism Data.xlsx\", engine=\"openpyxl\")\n",
    "                       \n",
    "# Basic structure\n",
    "df.info()"
   ]
  },
  {
   "cell_type": "markdown",
   "id": "97db310f",
   "metadata": {},
   "source": [
    "Price Distribution"
   ]
  },
  {
   "cell_type": "code",
   "execution_count": null,
   "id": "1e0a9b58",
   "metadata": {},
   "outputs": [],
   "source": [
    "\n",
    "sns.histplot(df['Price (GHS)'], kde=True, color='skyblue')\n",
    "plt.title(\"Distribution of Tour Prices\")\n",
    "plt.xlabel(\"Price (GHS)\")\n",
    "plt.ylabel(\"Frequency\")\n",
    "plt.show()\n"
   ]
  },
  {
   "cell_type": "markdown",
   "id": "9a2df792",
   "metadata": {},
   "source": [
    "Most Popular Destinations"
   ]
  },
  {
   "cell_type": "code",
   "execution_count": null,
   "id": "b5c183f0",
   "metadata": {},
   "outputs": [],
   "source": [
    "top_destinations = df['Destination'].value_counts().head(10)\n",
    "\n",
    "plt.figure(figsize=(10,6))\n",
    "sns.barplot(x=top_destinations.values, y=top_destinations.index, palette='viridis')\n",
    "plt.title('Top 10 Destinations')\n",
    "plt.xlabel('Number of Bookings')\n",
    "plt.ylabel('Destination')\n",
    "plt.tight_layout()\n",
    "plt.show()\n",
    "\n",
    "\n"
   ]
  },
  {
   "cell_type": "markdown",
   "id": "09691345",
   "metadata": {},
   "source": [
    "Booking Channels and Booking Tpyes"
   ]
  },
  {
   "cell_type": "code",
   "execution_count": null,
   "id": "febffb5d",
   "metadata": {},
   "outputs": [],
   "source": [
    "plt.figure(figsize=(12,6))\n",
    "\n",
    "# Count grouped by Booking Channel and Booking Type\n",
    "channel_type_counts = df.groupby(['Booking Channel', 'Booking Type']).size().reset_index(name='Count')\n",
    "\n",
    "# Plot as grouped bar chart\n",
    "sns.barplot(data=channel_type_counts, x='Booking Channel', y='Count', hue='Booking Type', palette='coolwarm')\n",
    "\n",
    "plt.title('Bookings by Channel and Type')\n",
    "plt.xlabel('Booking Channel')\n",
    "plt.ylabel('Number of Bookings')\n",
    "plt.xticks(rotation=45)\n",
    "plt.tight_layout()\n",
    "plt.show()"
   ]
  },
  {
   "cell_type": "code",
   "execution_count": null,
   "id": "34a2054a",
   "metadata": {},
   "outputs": [],
   "source": [
    "# Convert to datetime\n",
    "df['Date'] = pd.to_datetime(df['Date'], errors='coerce')\n",
    "\n",
    "# Now extract full month name\n",
    "df['Month'] = df['Date'].dt.strftime('%B')\n"
   ]
  },
  {
   "cell_type": "markdown",
   "id": "37f0948f",
   "metadata": {},
   "source": [
    "Monthly Revenue Trend"
   ]
  },
  {
   "cell_type": "code",
   "execution_count": null,
   "id": "c5260143",
   "metadata": {},
   "outputs": [],
   "source": [
    "# Force desired order\n",
    "month_order = ['January', 'February', 'October', 'November', 'December']\n",
    "df['Month'] = pd.Categorical(df['Month'], categories=month_order, ordered=True)\n",
    "\n",
    "# Group by Month\n",
    "monthly_revenue = df.groupby('Month')['Price (GHS)'].sum().reset_index()\n",
    "\n",
    "# Plot\n",
    "import matplotlib.pyplot as plt\n",
    "import seaborn as sns\n",
    "\n",
    "plt.figure(figsize=(10, 6))\n",
    "sns.lineplot(data=monthly_revenue, x='Month', y='Price (GHS)', marker='o')\n",
    "plt.title('Monthly Revenue')\n",
    "plt.xlabel('Month')\n",
    "plt.ylabel('Revenue (GHS)')\n",
    "plt.xticks(rotation=45)\n",
    "plt.tight_layout()\n",
    "plt.show()\n"
   ]
  },
  {
   "cell_type": "markdown",
   "id": "8b5882d8",
   "metadata": {},
   "source": [
    "Best Selling Tour Packages"
   ]
  },
  {
   "cell_type": "code",
   "execution_count": null,
   "id": "15fdb1a6",
   "metadata": {},
   "outputs": [],
   "source": [
    "# Count the number of bookings for each tour package\n",
    "tour_package_counts = df['Tour Package'].value_counts()\n",
    "\n",
    "# Plot the top 10 tour packages by count (optional)\n",
    "plt.figure(figsize=(12,6))\n",
    "sns.barplot(x=tour_package_counts.head(10).index, y=tour_package_counts.head(10).values, palette='cubehelix')\n",
    "\n",
    "plt.title('Top 10 Tour Packages by Number of Bookings')\n",
    "plt.xlabel('Tour Package')\n",
    "plt.ylabel('Number of Bookings')\n",
    "plt.xticks(rotation=45)\n",
    "plt.tight_layout()\n",
    "plt.show()\n",
    "\n",
    "\n",
    "\n"
   ]
  },
  {
   "cell_type": "markdown",
   "id": "9ac44f10",
   "metadata": {},
   "source": [
    "Revenue by Seasons"
   ]
  },
  {
   "cell_type": "code",
   "execution_count": null,
   "id": "d4025ae8",
   "metadata": {},
   "outputs": [],
   "source": [
    "# Group by Season and Sum Revenue\n",
    "season_revenue = df.groupby('Season')['Price (GHS)'].sum()\n",
    "\n",
    "plt.figure(figsize=(8,8))\n",
    "plt.pie(season_revenue, labels=season_revenue.index, autopct='%1.1f%%', startangle=140, colors=['#8da0cb','#fc8d62'])\n",
    "plt.title('Revenue by Season')\n",
    "plt.axis('equal')  \n",
    "plt.tight_layout()\n",
    "plt.show()\n",
    "\n"
   ]
  },
  {
   "cell_type": "markdown",
   "id": "a7b40ee1",
   "metadata": {},
   "source": [
    "Customer Counts per Season"
   ]
  },
  {
   "cell_type": "code",
   "execution_count": null,
   "id": "45b3ec85",
   "metadata": {},
   "outputs": [],
   "source": [
    "\n",
    "# Count number of entries per season\n",
    "season_counts = df['Season'].value_counts().sort_index()\n",
    "\n",
    "# Plot as bar chart\n",
    "plt.figure(figsize=(8, 6))\n",
    "season_counts.plot(kind='bar', color='#66c2a5')\n",
    "\n",
    "plt.title('Count of Customers')\n",
    "plt.xlabel('Season')\n",
    "plt.ylabel('Count')\n",
    "plt.xticks(rotation=45)\n",
    "plt.tight_layout()\n",
    "plt.show()\n"
   ]
  }
 ],
 "metadata": {
  "kernelspec": {
   "display_name": ".venv",
   "language": "python",
   "name": "python3"
  },
  "language_info": {
   "codemirror_mode": {
    "name": "ipython",
    "version": 3
   },
   "file_extension": ".py",
   "mimetype": "text/x-python",
   "name": "python",
   "nbconvert_exporter": "python",
   "pygments_lexer": "ipython3",
   "version": "3.13.3"
  }
 },
 "nbformat": 4,
 "nbformat_minor": 5
}
